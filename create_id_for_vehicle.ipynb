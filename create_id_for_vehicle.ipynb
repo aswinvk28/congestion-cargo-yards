{
  "nbformat": 4,
  "nbformat_minor": 0,
  "metadata": {
    "colab": {
      "name": "create_id_for_vehicle",
      "provenance": [],
      "collapsed_sections": []
    },
    "kernelspec": {
      "name": "python3",
      "display_name": "Python 3"
    },
    "accelerator": "GPU"
  },
  "cells": [
    {
      "cell_type": "code",
      "metadata": {
        "colab": {
          "base_uri": "https://localhost:8080/"
        },
        "id": "POZCMm1G3MUj",
        "outputId": "4beef152-e741-45fa-c8b9-8b04a5f56389"
      },
      "source": [
        "from google.colab import drive\r\n",
        "drive.mount(\"/content/gdrive/\")"
      ],
      "execution_count": 1,
      "outputs": [
        {
          "output_type": "stream",
          "text": [
            "Mounted at /content/gdrive/\n"
          ],
          "name": "stdout"
        }
      ]
    },
    {
      "cell_type": "code",
      "metadata": {
        "colab": {
          "base_uri": "https://localhost:8080/"
        },
        "id": "iByJVgiI3W8y",
        "outputId": "81809e99-1714-45ff-e2b2-4501c382eaae"
      },
      "source": [
        "cd /content/gdrive/My\\ Drive/OpenVino"
      ],
      "execution_count": 2,
      "outputs": [
        {
          "output_type": "stream",
          "text": [
            "/content/gdrive/My Drive/OpenVino\n"
          ],
          "name": "stdout"
        }
      ]
    },
    {
      "cell_type": "code",
      "metadata": {
        "colab": {
          "base_uri": "https://localhost:8080/"
        },
        "id": "CZW4m8fy3jgg",
        "outputId": "db8f14d9-8aaf-4f5e-f93d-4e8be5d8027f"
      },
      "source": [
        "!pip install pixellib"
      ],
      "execution_count": 3,
      "outputs": [
        {
          "output_type": "stream",
          "text": [
            "Collecting pixellib\n",
            "\u001b[?25l  Downloading https://files.pythonhosted.org/packages/4f/8d/2a86148b265af533c2c34741f26d1e23850dba6e26298807e563fa862c67/pixellib-0.5.2-py3-none-any.whl (66kB)\n",
            "\r\u001b[K     |█████                           | 10kB 18.5MB/s eta 0:00:01\r\u001b[K     |█████████▉                      | 20kB 25.3MB/s eta 0:00:01\r\u001b[K     |██████████████▊                 | 30kB 27.5MB/s eta 0:00:01\r\u001b[K     |███████████████████▋            | 40kB 20.7MB/s eta 0:00:01\r\u001b[K     |████████████████████████▌       | 51kB 14.6MB/s eta 0:00:01\r\u001b[K     |█████████████████████████████▍  | 61kB 16.1MB/s eta 0:00:01\r\u001b[K     |████████████████████████████████| 71kB 7.0MB/s \n",
            "\u001b[?25hRequirement already satisfied: matplotlib in /usr/local/lib/python3.6/dist-packages (from pixellib) (3.2.2)\n",
            "Collecting labelme2coco\n",
            "  Downloading https://files.pythonhosted.org/packages/36/bf/a0ae23452fccb2215cecdff4df85fd29af4adfbd14e1bcb78379efedd968/labelme2coco-0.1.2-py3-none-any.whl\n",
            "Collecting imantics\n",
            "  Downloading https://files.pythonhosted.org/packages/1a/ff/8f92fa03b42f14860bc882d08187b359d3b8f9ef670d4efbed090d451c58/imantics-0.1.12.tar.gz\n",
            "Requirement already satisfied: scikit-image in /usr/local/lib/python3.6/dist-packages (from pixellib) (0.16.2)\n",
            "Requirement already satisfied: opencv-python in /usr/local/lib/python3.6/dist-packages (from pixellib) (4.1.2.30)\n",
            "Requirement already satisfied: imgaug in /usr/local/lib/python3.6/dist-packages (from pixellib) (0.2.9)\n",
            "Requirement already satisfied: pillow in /usr/local/lib/python3.6/dist-packages (from pixellib) (7.0.0)\n",
            "Requirement already satisfied: pyparsing!=2.0.4,!=2.1.2,!=2.1.6,>=2.0.1 in /usr/local/lib/python3.6/dist-packages (from matplotlib->pixellib) (2.4.7)\n",
            "Requirement already satisfied: numpy>=1.11 in /usr/local/lib/python3.6/dist-packages (from matplotlib->pixellib) (1.19.4)\n",
            "Requirement already satisfied: kiwisolver>=1.0.1 in /usr/local/lib/python3.6/dist-packages (from matplotlib->pixellib) (1.3.1)\n",
            "Requirement already satisfied: python-dateutil>=2.1 in /usr/local/lib/python3.6/dist-packages (from matplotlib->pixellib) (2.8.1)\n",
            "Requirement already satisfied: cycler>=0.10 in /usr/local/lib/python3.6/dist-packages (from matplotlib->pixellib) (0.10.0)\n",
            "Requirement already satisfied: jsonschema>=2.6.0 in /usr/local/lib/python3.6/dist-packages (from labelme2coco->pixellib) (2.6.0)\n",
            "Requirement already satisfied: lxml in /usr/local/lib/python3.6/dist-packages (from imantics->pixellib) (4.2.6)\n",
            "Collecting xmljson\n",
            "  Downloading https://files.pythonhosted.org/packages/91/2d/7191efe15406b8b99e2b5905ca676a8a3dc2936416ade7ed17752902c250/xmljson-0.2.1-py2.py3-none-any.whl\n",
            "Requirement already satisfied: networkx>=2.0 in /usr/local/lib/python3.6/dist-packages (from scikit-image->pixellib) (2.5)\n",
            "Requirement already satisfied: PyWavelets>=0.4.0 in /usr/local/lib/python3.6/dist-packages (from scikit-image->pixellib) (1.1.1)\n",
            "Requirement already satisfied: imageio>=2.3.0 in /usr/local/lib/python3.6/dist-packages (from scikit-image->pixellib) (2.4.1)\n",
            "Requirement already satisfied: scipy>=0.19.0 in /usr/local/lib/python3.6/dist-packages (from scikit-image->pixellib) (1.4.1)\n",
            "Requirement already satisfied: six in /usr/local/lib/python3.6/dist-packages (from imgaug->pixellib) (1.15.0)\n",
            "Requirement already satisfied: Shapely in /usr/local/lib/python3.6/dist-packages (from imgaug->pixellib) (1.7.1)\n",
            "Requirement already satisfied: decorator>=4.3.0 in /usr/local/lib/python3.6/dist-packages (from networkx>=2.0->scikit-image->pixellib) (4.4.2)\n",
            "Building wheels for collected packages: imantics\n",
            "  Building wheel for imantics (setup.py) ... \u001b[?25l\u001b[?25hdone\n",
            "  Created wheel for imantics: filename=imantics-0.1.12-cp36-none-any.whl size=16034 sha256=d3999c72975d0855f2be8a9451357e9b94819fd8b9aabc73a41ce16b8d56ce49\n",
            "  Stored in directory: /root/.cache/pip/wheels/73/93/1c/9e2fc52eb74441941bc76cac441ddcc2c7ad67b18e1849e62a\n",
            "Successfully built imantics\n",
            "Installing collected packages: labelme2coco, xmljson, imantics, pixellib\n",
            "Successfully installed imantics-0.1.12 labelme2coco-0.1.2 pixellib-0.5.2 xmljson-0.2.1\n"
          ],
          "name": "stdout"
        }
      ]
    },
    {
      "cell_type": "code",
      "metadata": {
        "id": "kgzqsj5V3mWr"
      },
      "source": [
        "#!wget --quiet https://github.com/matterport/Mask_RCNN/releases/download/v2.0/mask_rcnn_coco.h5"
      ],
      "execution_count": 4,
      "outputs": []
    },
    {
      "cell_type": "code",
      "metadata": {
        "id": "eJTtVKIp3qSA"
      },
      "source": [
        "import pixellib\r\n",
        "from pixellib.instance import instance_segmentation"
      ],
      "execution_count": 4,
      "outputs": []
    },
    {
      "cell_type": "code",
      "metadata": {
        "colab": {
          "base_uri": "https://localhost:8080/"
        },
        "id": "YzPSShb03uBw",
        "outputId": "1b710508-b0b9-49f3-8a8e-3294f34b4661"
      },
      "source": [
        "segment_video = instance_segmentation()\r\n",
        "segment_video.load_model(\"mask_rcnn_coco.h5\")"
      ],
      "execution_count": 5,
      "outputs": [
        {
          "output_type": "stream",
          "text": [
            "WARNING:tensorflow:From /usr/local/lib/python3.6/dist-packages/tensorflow/python/util/deprecation.py:605: calling map_fn_v2 (from tensorflow.python.ops.map_fn) with dtype is deprecated and will be removed in a future version.\n",
            "Instructions for updating:\n",
            "Use fn_output_signature instead\n"
          ],
          "name": "stdout"
        }
      ]
    },
    {
      "cell_type": "code",
      "metadata": {
        "id": "qzZenlZ63yCH"
      },
      "source": [
        "import cv2\r\n",
        "from google.colab.patches import cv2_imshow\r\n",
        "import copy\r\n",
        "import numpy as np\r\n"
      ],
      "execution_count": 30,
      "outputs": []
    },
    {
      "cell_type": "code",
      "metadata": {
        "id": "M1bpGbOc37oe"
      },
      "source": [
        "def intersection_over_union(box_1, box_2):\r\n",
        "    width_of_overlap_area = min(box_1['xmax'], box_2['xmax']) - max(box_1['xmin'], box_2['xmin'])\r\n",
        "    height_of_overlap_area = min(box_1['ymax'], box_2['ymax']) - max(box_1['ymin'], box_2['ymin'])\r\n",
        "    if width_of_overlap_area < 0 or height_of_overlap_area < 0:\r\n",
        "        area_of_overlap = 0\r\n",
        "    else:\r\n",
        "        area_of_overlap = width_of_overlap_area * height_of_overlap_area\r\n",
        "    box_1_area = (box_1['ymax'] - box_1['ymin']) * (box_1['xmax'] - box_1['xmin'])\r\n",
        "    box_2_area = (box_2['ymax'] - box_2['ymin']) * (box_2['xmax'] - box_2['xmin'])\r\n",
        "    area_of_union = box_1_area + box_2_area - area_of_overlap\r\n",
        "    if area_of_union == 0:\r\n",
        "        return 0\r\n",
        "    return area_of_overlap / area_of_union"
      ],
      "execution_count": 7,
      "outputs": []
    },
    {
      "cell_type": "code",
      "metadata": {
        "id": "Jxz0DjOkBD99"
      },
      "source": [
        "cap = cv2.VideoCapture('traffic.mp4')\r\n",
        "c=0\r\n",
        "\r\n",
        "frames = []\r\n",
        "boxes = {}\r\n",
        "\r\n",
        "temp_queue = list(range(1,50))\r\n",
        "\r\n",
        "frame_count_to_be_permanent = 5\r\n",
        "count_to_vanish = 10\r\n",
        "\r\n",
        "temp_ids = {}\r\n",
        "permanent_ids = {}\r\n",
        "previous_temp_ids = {}\r\n",
        "\r\n",
        "current = -1\r\n",
        "previous = -1\r\n",
        "\r\n",
        "\r\n",
        "while (cap.isOpened()):\r\n",
        "\r\n",
        "  ret, frame = cap.read() #read video frame\r\n",
        "  \r\n",
        "  frames+=[frame.copy()] #copy frame for further use\r\n",
        "  \r\n",
        "  segmask, output = segment_video.segmentFrame(frame, show_bboxes= True) #object detection\r\n",
        "  \r\n",
        "  boxes[\"frame_\"+str(c)] = {'rois':[]}\r\n",
        "\r\n",
        "  for rois, classes in zip(segmask['rois'], segmask['class_ids']):\r\n",
        "    if classes == 3:\r\n",
        "      boxes[\"frame_\"+str(c)]['rois'] += [rois] #save rois\r\n",
        "\r\n",
        "  print(\"Frame : \"+ str(c))\r\n",
        "  \r\n",
        "  if len(temp_ids)==0:\r\n",
        "    current = c\r\n",
        "\r\n",
        "    for box in boxes[\"frame_\"+str(c)]['rois']:\r\n",
        "      temp_ids[str(temp_queue[0])] = {'box': box, 'frame_count': 0, 'same_count': 0}\r\n",
        "      temp_queue.remove(temp_queue[0])\r\n",
        "\r\n",
        "  else:\r\n",
        "    previous_temp_ids = copy.deepcopy(temp_ids)\r\n",
        "    previous = current\r\n",
        "    current = c\r\n",
        "    for box in boxes[\"frame_\"+str(current)]['rois']:\r\n",
        "      box_1 = {'ymin': box[0],'xmin': box[1],'ymax': box[2],'xmax': box[3]}\r\n",
        "\r\n",
        "      max_iou = 0\r\n",
        "      max_iou_index = -1\r\n",
        "      for ids in temp_ids:\r\n",
        "        previous_box = temp_ids[ids]['box']\r\n",
        "        box_2 = {'ymin': previous_box[0],'xmin': previous_box[1],'ymax': previous_box[2],'xmax': previous_box[3]}\r\n",
        "        t_iou = intersection_over_union(box_1, box_2)\r\n",
        "        if t_iou > max_iou:\r\n",
        "          max_iou = t_iou\r\n",
        "          max_iou_index = ids\r\n",
        "      \r\n",
        "      #print(max_iou, max_iou_index)\r\n",
        "      \r\n",
        "      if max_iou>0.6:\r\n",
        "        temp_ids[max_iou_index]['frame_count'] += 1\r\n",
        "        temp_ids[max_iou_index]['box'] = box\r\n",
        "\r\n",
        "      else:\r\n",
        "        temp_ids[str(temp_queue[0])] = {'box': box, 'frame_count': 0, 'same_count': 0}\r\n",
        "        temp_queue.remove(temp_queue[0])\r\n",
        "\r\n",
        "\r\n",
        "    pop_ids = []\r\n",
        "    for ids in temp_ids:\r\n",
        "      if ids in previous_temp_ids:\r\n",
        "        if temp_ids[ids]['frame_count']==previous_temp_ids[ids]['frame_count']:\r\n",
        "          temp_ids[ids]['same_count'] += 1\r\n",
        "        else:\r\n",
        "          temp_ids[ids]['same_count'] = 0\r\n",
        "      \r\n",
        "\r\n",
        "      if temp_ids[ids]['frame_count']==frame_count_to_be_permanent and ids not in permanent_ids:\r\n",
        "        permanent_ids[ids] = {}\r\n",
        "        permanent_ids[ids]['vanish_count'] = 0\r\n",
        "\r\n",
        "\r\n",
        "      if temp_ids[ids]['same_count']==count_to_vanish:\r\n",
        "        #remove temp_ids\r\n",
        "        pop_ids += [ids]\r\n",
        "\r\n",
        "    for ids in pop_ids:\r\n",
        "      if ids in permanent_ids:\r\n",
        "        permanent_ids.pop(ids)\r\n",
        "      temp_queue += [ids]\r\n",
        "      xz = temp_ids.pop(ids)\r\n",
        "\r\n",
        "\r\n",
        "\r\n",
        "#image visualize\r\n",
        "  img = frames[c]\r\n",
        "  for ids in temp_ids:\r\n",
        "    box_show = temp_ids[ids]['box']\r\n",
        "    cv2.rectangle(img, (box_show[1], box_show[0]), (box_show[3], box_show[2]), (255,0,0), 2)\r\n",
        "    if ids in permanent_ids:\r\n",
        "      cv2.putText(img, ids, (box_show[1], box_show[2]), cv2.FONT_HERSHEY_SIMPLEX, 1, (0,255,0), 2, cv2.LINE_AA)\r\n",
        "    else:\r\n",
        "      cv2.putText(img, ids, (box_show[1], box_show[2]), cv2.FONT_HERSHEY_SIMPLEX, 1, (0,0,255), 2, cv2.LINE_AA)\r\n",
        "    cv2.imwrite('test/frame_'+str(c)+'.jpg', img)\r\n",
        "\r\n",
        "  \r\n",
        "  c+=1\r\n",
        "  if c>800:\r\n",
        "    break\r\n",
        "\r\n",
        "cap.release()\r\n"
      ],
      "execution_count": null,
      "outputs": []
    },
    {
      "cell_type": "code",
      "metadata": {
        "id": "zUsf2IEWcMi3"
      },
      "source": [
        "height, width, _ = frame.shape"
      ],
      "execution_count": 38,
      "outputs": []
    },
    {
      "cell_type": "code",
      "metadata": {
        "id": "b3RxCXJZJ6D_"
      },
      "source": [
        "# Define the codec and create VideoWriter object\r\n",
        "fourcc = cv2.VideoWriter_fourcc(*'XVID')\r\n",
        "out = cv2.VideoWriter('output.avi', fourcc, 15.0, (width,  height))\r\n",
        "\r\n",
        "z = 0\r\n",
        "\r\n",
        "while z!=800:\r\n",
        "  frame = cv2.imread('test/frame_'+str(z)+'.jpg')\r\n",
        "  out.write(frame)\r\n",
        "  z+=1\r\n",
        "\r\n",
        "out.release()"
      ],
      "execution_count": 39,
      "outputs": []
    },
    {
      "cell_type": "code",
      "metadata": {
        "id": "FopwSe5TDD-O"
      },
      "source": [
        ""
      ],
      "execution_count": null,
      "outputs": []
    },
    {
      "cell_type": "code",
      "metadata": {
        "id": "90GqQS_vG4tP"
      },
      "source": [
        "### boxes[ymin, xmin, ymax, xmax]"
      ],
      "execution_count": null,
      "outputs": []
    },
    {
      "cell_type": "code",
      "metadata": {
        "id": "DWi7TdiXHIYh"
      },
      "source": [
        ""
      ],
      "execution_count": 39,
      "outputs": []
    },
    {
      "cell_type": "code",
      "metadata": {
        "id": "8RuDmFLe9YZP"
      },
      "source": [
        ""
      ],
      "execution_count": 30,
      "outputs": []
    },
    {
      "cell_type": "code",
      "metadata": {
        "id": "dauFTiDnArw2"
      },
      "source": [
        ""
      ],
      "execution_count": null,
      "outputs": []
    }
  ]
}